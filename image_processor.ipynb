{
 "cells": [
  {
   "cell_type": "code",
   "execution_count": 74,
   "id": "f8dade1b",
   "metadata": {},
   "outputs": [],
   "source": [
    "from PIL import Image\n",
    "import os\n",
    "import glob"
   ]
  },
  {
   "cell_type": "code",
   "execution_count": 82,
   "id": "5e681ee6",
   "metadata": {},
   "outputs": [
    {
     "name": "stdout",
     "output_type": "stream",
     "text": [
      "(1280, 257)\n",
      "(1280, 256)\n",
      "(1920, 384)\n",
      "(4599, 920)\n",
      "(1200, 240)\n",
      "(3612, 724)\n",
      "(1200, 241)\n",
      "(1900, 380)\n",
      "(4063, 814)\n",
      "(1200, 241)\n"
     ]
    }
   ],
   "source": [
    "inputdir=os.path.join(\"images\",\"original_hazard_images\")\n",
    "outputdir=os.path.join(\"images\",\"cropped_hazard_images\")\n",
    "\n",
    "aspect_ratio=5\n",
    "\n",
    "for f in glob.glob(os.path.join(inputdir,\"*.jpg\")):\n",
    "    im = Image.open(f)\n",
    "    w_orig,h_orig=im.size\n",
    "    #determine if width or height limited (for given aspect ratio)\n",
    "    proper_width=h_orig*aspect_ratio\n",
    "    if w_orig > proper_width: #trim width     \n",
    "        dw_crop=int((w_orig-proper_width)/2)\n",
    "        im_cropped=im.crop((dw_crop,0,w_orig-dw_crop,h_orig)) \n",
    "    else: #trim height\n",
    "        proper_height=w_orig/aspect_ratio\n",
    "        dh_crop=int((h_orig-proper_height)/2)\n",
    "        im_cropped=im.crop((0,dh_crop,w_orig,h_orig-dh_crop))\n",
    "    print(im_cropped.size)\n",
    "    fout=os.path.join(outputdir,os.path.basename(im.filename))\n",
    "    im_cropped.save(fout)"
   ]
  },
  {
   "cell_type": "code",
   "execution_count": 79,
   "id": "fa5c5365",
   "metadata": {},
   "outputs": [
    {
     "data": {
      "text/plain": [
       "(1280, 853)"
      ]
     },
     "execution_count": 79,
     "metadata": {},
     "output_type": "execute_result"
    }
   ],
   "source": [
    "w_orig,h_orig\n"
   ]
  },
  {
   "cell_type": "code",
   "execution_count": null,
   "id": "cb771aec",
   "metadata": {},
   "outputs": [],
   "source": []
  }
 ],
 "metadata": {
  "kernelspec": {
   "display_name": "Python 3 (ipykernel)",
   "language": "python",
   "name": "python3"
  },
  "language_info": {
   "codemirror_mode": {
    "name": "ipython",
    "version": 3
   },
   "file_extension": ".py",
   "mimetype": "text/x-python",
   "name": "python",
   "nbconvert_exporter": "python",
   "pygments_lexer": "ipython3",
   "version": "3.9.7"
  }
 },
 "nbformat": 4,
 "nbformat_minor": 5
}
