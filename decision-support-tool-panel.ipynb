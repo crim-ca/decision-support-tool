{
 "cells": [
  {
   "cell_type": "code",
   "execution_count": null,
   "metadata": {},
   "outputs": [],
   "source": [
    "import panel as pn\n",
    "\n",
    "from panel.interact import interact, interactive, fixed, interact_manual\n",
    "from panel import widgets\n",
    "from bokeh.plotting import figure, output_file, save, show\n",
    "from bokeh.tile_providers import CARTODBPOSITRON, get_provider\n",
    "from bokeh.models import ColorBar,ColumnDataSource,OpenURL,TapTool\n",
    "from bokeh.palettes import YlOrRd9\n",
    "from bokeh.transform import linear_cmap\n",
    "from bokeh.models.tools import HoverTool\n",
    "from bokeh.events import Tap\n",
    "\n",
    "import holoviews as hv\n",
    "from holoviews import opts\n",
    "hv.extension('bokeh')\n",
    "\n",
    "from pyproj import Proj, transform\n",
    "\n",
    "import pandas as pd\n",
    "import numpy as np\n",
    "import datetime as dt\n",
    "\n",
    "pn.extension()"
   ]
  },
  {
   "cell_type": "code",
   "execution_count": null,
   "metadata": {},
   "outputs": [],
   "source": [
    "dT_levels=['+0.5C','+1.0C','+1.5C','+2.0C','+2.5C','+3.0C','+3.5C']\n",
    "\n",
    "CRBCPI_data={dT_levels[0]:pd.read_excel(\"https://climate-scenarios.canada.ca/files/buildings_report/Appendix_1.2_NBCC/Appendix1.2_+0.5C_NBCC.xls\"),\n",
    "             dT_levels[1]:pd.read_excel(\"https://climate-scenarios.canada.ca/files/buildings_report/Appendix_1.2_NBCC/Appendix1.2_+1.0C_NBCC.xls\"),\n",
    "             dT_levels[2]:pd.read_excel(\"https://climate-scenarios.canada.ca/files/buildings_report/Appendix_1.2_NBCC/Appendix1.2_+1.5C_NBCC.xls\"),\n",
    "             dT_levels[3]:pd.read_excel(\"https://climate-scenarios.canada.ca/files/buildings_report/Appendix_1.2_NBCC/Appendix1.2_+2.0C_NBCC.xls\"),\n",
    "             dT_levels[4]:pd.read_excel(\"https://climate-scenarios.canada.ca/files/buildings_report/Appendix_1.2_NBCC/Appendix1.2_+2.5C_NBCC.xls\"),\n",
    "             dT_levels[5]:pd.read_excel(\"https://climate-scenarios.canada.ca/files/buildings_report/Appendix_1.2_NBCC/Appendix1.2_+3.0C_NBCC.xls\"),\n",
    "             dT_levels[6]:pd.read_excel(\"https://climate-scenarios.canada.ca/files/buildings_report/Appendix_1.2_NBCC/Appendix1.2_+3.5C_NBCC.xls\")}\n",
    "\n",
    "CRBCPI_dT_to_time=pd.DataFrame([[2023,2023,2023,2023],\n",
    "                                [2035,2046,2046,np.nan],\n",
    "                                [2047,2070,2070,np.nan],\n",
    "                                [2059,2087,np.nan,np.nan],\n",
    "                                [2069,np.nan,np.nan,np.nan],\n",
    "                                [2080,np.nan,np.nan,np.nan],\n",
    "                                [2090,np.nan,np.nan,np.nan]],\n",
    "                                index=dT_levels,columns=['RCP8.5','RCP6.0','RCP4.5','RCP2.6'])"
   ]
  },
  {
   "cell_type": "code",
   "execution_count": null,
   "metadata": {},
   "outputs": [],
   "source": [
    "plot_width=1000\n",
    "plot_height=1000"
   ]
  },
  {
   "cell_type": "code",
   "execution_count": null,
   "metadata": {},
   "outputs": [],
   "source": [
    "t1='''Before we begin, it is important that you are comfortable with certain definitions and concepts related to climate models and future climate data.'''\n",
    "t2='''Do you want to learn more about:'''\n",
    "\n",
    "information_sources={'Future climate change scenarios':'https://climatedata.ca/resource/introduction-to-decision-making-using-climate-scenarios/)', \n",
    "                     'Understanding the range of potential climate change projections':'https://climatedata.ca/resource/understanding-ranges-in-climate-projections/', \n",
    "                     'Navigating the ClimateData.ca climate data portal':'https://climatedata.ca/resource/how-to-navigate-variable-maps/', \n",
    "                     'The Government of Canada Climate-Resilience Buildings and Core Public Infrastructure program?':'https://www.infrastructure.gc.ca/plan/crbcpi-irccipb-eng.html',\n",
    "                     'The Government of Canada Climate Lens program?':'https://www.infrastructure.gc.ca/pub/other-autre/cl-occ-eng.html',\n",
    "                     'The Federation of Canadian Municipalities for Climate Innovation program?':'https://fcm.ca/en/programs/municipalities-climate-innovation-program/climate-change-adaptation'\n",
    "                     }\n",
    "\n",
    "knowledge_checkbox = pn.widgets.CheckBoxGroup(inline=False,\n",
    "                                                name='Core knowledge assessment',\n",
    "                                                value=[],\n",
    "                                                options=information_sources\n",
    "                                             )\n",
    "\n",
    "selected = pn.pane.Markdown(object='')\n",
    "\n",
    "def knowledge_checkbox_callback(*events):\n",
    "    print(events)\n",
    "    for event in events:\n",
    "        if event.name == 'options':\n",
    "            selections.object = 'Possible options: %s' % ', '.join(event.new)\n",
    "        elif event.name == 'value':\n",
    "            selected.object = 'Selected: %s' % ','.join(event.new)\n",
    "\n",
    "##Register the callback\n",
    "watcher = knowledge_checkbox.param.watch(knowledge_checkbox_callback, ['options', 'value'], onlychanged=False)\n",
    "\n",
    "##Initialize the callback\n",
    "\n",
    "\n",
    "Tab_Core_Knowledge_Checklist=pn.Column(t1, \n",
    "                                       t2, \n",
    "                                       knowledge_checkbox,\n",
    "                                       selected,\n",
    "                                       width=plot_width, height=plot_height, \n",
    "                                       name='Core Knowledge Checklist')\n"
   ]
  },
  {
   "cell_type": "code",
   "execution_count": null,
   "metadata": {},
   "outputs": [],
   "source": [
    "building_type = pn.widgets.TextInput(name='What type of building are you designing or operating?', placeholder='Enter building type here...')\n",
    "\n",
    "building_lifespan = pn.widgets.DateRangeSlider(\n",
    "    name='What is your building lifespan?',\n",
    "    start=dt.datetime(1950,1,1), end=dt.datetime(2100, 1,1),\n",
    "    value=(dt.datetime(2021, 1,1), dt.datetime(2061, 1,1))\n",
    "    )\n",
    "\n",
    "proj1 = Proj('epsg:4326', preserve_units=False)\n",
    "proj2 = Proj('epsg:3785', preserve_units=False)\n",
    "\n",
    "bbox_lat=[41.,71.]\n",
    "bbox_lon=[360.-142.,360.-51.]\n",
    "bbox_x,bbox_y=transform(proj1,proj2,bbox_lat,bbox_lon)\n",
    "\n",
    "coordList=[]\n",
    "\n",
    "tile_provider = get_provider(CARTODBPOSITRON)\n",
    "TOOLS=\"hover,pan,wheel_zoom,tap\"\n",
    "\n",
    "location_map = figure(plot_width=500, plot_height=250,x_range=bbox_x, y_range=bbox_y,title='Where is your building located?',\n",
    "          x_axis_type=\"mercator\", y_axis_type=\"mercator\",tools=TOOLS)\n",
    "location_map.add_tile(tile_provider)\n",
    "\n",
    "source = ColumnDataSource(data=dict(x=[0], y=[0]))   \n",
    "location_map.circle(source=source,x='x',y='y')\n",
    "\n",
    "def map_location_callback(event):\n",
    "    Coords=(event.x,event.y)\n",
    "    coordList.append(Coords) \n",
    "    source.data = dict(x=[i[0] for i in coordList], y=[i[1] for i in coordList])\n",
    "\n",
    "location_map.on_event(Tap, map_location_callback)\n",
    "\n",
    "profession_type = pn.widgets.TextInput(name='What is your profession or role?', placeholder='Enter profession/role here...')\n",
    "\n",
    "Tab_Project_Definition=pn.Column(building_type,\n",
    "                                 building_lifespan,\n",
    "                                 profession_type,\n",
    "                                 pn.pane.Bokeh(location_map),\n",
    "                                 width=plot_width, height=plot_height,\n",
    "                                 name='Project Definition')"
   ]
  },
  {
   "cell_type": "code",
   "execution_count": null,
   "metadata": {},
   "outputs": [],
   "source": [
    "building_components=[\"foundations\",\n",
    "             \"basements\",\n",
    "             \"superstructure (floor and roof)\",\n",
    "             \"exterior closures (exterior wall, windows, doors)\",\n",
    "             \"roofing (coverings and openings\",\n",
    "             \"Doors and partitions\",\n",
    "             \"staircases\",\n",
    "             \"interior finishes (wall, floor and ceiling finishes)\",\n",
    "             \"conveying systems (e.g. elevators)\",\n",
    "             \"Plumbing (water supply, sewage, drainage, etc.)\",\n",
    "             \"Mechnical heating systems\",\n",
    "             \"Mechanical cooling systems\",\n",
    "             \"Additional/specialized HVAC systems\",\n",
    "             \"Fire protection (includes sprinklers and hoses)\",\n",
    "             \"Electrical (includes service, distribution, power and comms)\"\n",
    "             ]\n",
    "\n",
    "building_components_widget = pn.widgets.multi_choice = pn.widgets.MultiChoice(name='Which building components would you like to include in this assessment?', value=[],\n",
    "             options=building_components)\n",
    "\n",
    "#TODO: add ability to add new items\n",
    "\n",
    "Tab_Building_Component_Inventory=pn.Column(building_components_widget,\n",
    "                                           width=plot_width, height=plot_height,\n",
    "                                           name='Building Component Inventory')"
   ]
  },
  {
   "cell_type": "code",
   "execution_count": null,
   "metadata": {},
   "outputs": [],
   "source": [
    "climate_hazards=[\"marine coastal flooding\",\n",
    "                 \"river and lake spring flooding\",\n",
    "                 \"extreme rain flooding\",\n",
    "                 \"ice jam flooding\",\n",
    "                 \"extreme snow\",\n",
    "                 \"extreme cold\",\n",
    "                 \"permafrost loss\",\n",
    "                 \"wildfire\"\n",
    "                 ]\n",
    "climate_hazards_widget = pn.widgets.multi_choice = pn.widgets.MultiChoice(name='Which climate hazards is your building potentially vulnerable to, if the hazard occurred now or in the future?', value=[],\n",
    "             options=climate_hazards)\n",
    "\n",
    "#TODO: add ability to add new options\n",
    "\n",
    "Tab_Climate_Hazard_Inventory=pn.Column(climate_hazards_widget,\n",
    "                                       width=plot_width, height=plot_height,\n",
    "                                       name='Climate Hazard Inventory')"
   ]
  },
  {
   "cell_type": "code",
   "execution_count": 100,
   "metadata": {},
   "outputs": [],
   "source": [
    "#TODO: make axes of matrix respond to the selections made for building components and climate hazards\n",
    "#TODO: make accordion of slider boxes, that allow individual pixel values of map (vulnerability levels) to be updated\n",
    "## https://holoviews.org/user_guide/Responding_to_Events.html\n",
    "## https://holoviews.org/user_guide/Custom_Interactivity.html\n",
    "\n",
    "data=pd.DataFrame(columns=climate_hazards, index=building_components) #set up dataframe\n",
    "data.loc[:,:]=0 #initialize all values to zero\n",
    "heatmap_data=pd.DataFrame(data.stack(), columns=['vulnerability']).reset_index()#\n",
    "heatmap_data.rename(columns={\"level_0\":\"Building Component\",\"level_1\":\"Climate Hazard\"})\n",
    "\n",
    "def vulnerability_heatmap(vulnerability_level=0):\n",
    "    heatmap_data['vulnerability'][2,4]=vulnerability_level\n",
    "    #heatmap_data_list=list(heatmap_data.to_records(index=False))\n",
    "    hm = hv.HeatMap(heatmap_data)\n",
    "    hm.opts(opts.HeatMap(width=900,height=900,tools=[],toolbar='above',\n",
    "                         xrotation=45,colorbar=True,\n",
    "                         clim=(0,10), cmap='magma'))\n",
    "    return hm\n",
    "dmap = hv.DynamicMap(vulnerability_heatmap, kdims=['vulnerability_level'])\n",
    "\n",
    "Tab_Hazard_Component_Interactions=pn.Column(dmap.redim.range(vulnerability_level=(0,10)),\n",
    "                                            width=plot_width, height=plot_height,\n",
    "                                            name='Vulnerability Matrix')"
   ]
  },
  {
   "cell_type": "code",
   "execution_count": 101,
   "metadata": {
    "scrolled": false
   },
   "outputs": [
    {
     "name": "stderr",
     "output_type": "stream",
     "text": [
      "WARNING:param.HeatMapPlot05279: HeatMap element index is not unique,  ensure you aggregate the data before displaying it, e.g. using heatmap.aggregate(function=np.mean). Duplicate index values have been dropped.\n"
     ]
    },
    {
     "data": {},
     "metadata": {},
     "output_type": "display_data"
    },
    {
     "name": "stderr",
     "output_type": "stream",
     "text": [
      "WARNING:param.HeatMapPlot05279: HeatMap element index is not unique,  ensure you aggregate the data before displaying it, e.g. using heatmap.aggregate(function=np.mean). Duplicate index values have been dropped.\n"
     ]
    },
    {
     "data": {},
     "metadata": {},
     "output_type": "display_data"
    },
    {
     "data": {
      "application/vnd.holoviews_exec.v0+json": "",
      "text/html": [
       "<div id='8356'>\n",
       "\n",
       "\n",
       "\n",
       "\n",
       "\n",
       "  <div class=\"bk-root\" id=\"442ae0b5-1990-4188-b98d-26b6fd2aff38\" data-root-id=\"8356\"></div>\n",
       "</div>\n",
       "<script type=\"application/javascript\">(function(root) {\n",
       "  function embed_document(root) {\n",
       "    var docs_json = {\"bebe85cd-e404-4de0-82ec-8665b5971414\":{\"defs\":[{\"extends\":null,\"module\":null,\"name\":\"ReactiveHTML1\",\"overrides\":[],\"properties\":[]},{\"extends\":null,\"module\":null,\"name\":\"FlexBox1\",\"overrides\":[],\"properties\":[{\"default\":\"flex-start\",\"kind\":null,\"name\":\"align_content\"},{\"default\":\"flex-start\",\"kind\":null,\"name\":\"align_items\"},{\"default\":\"row\",\"kind\":null,\"name\":\"flex_direction\"},{\"default\":\"wrap\",\"kind\":null,\"name\":\"flex_wrap\"},{\"default\":\"flex-start\",\"kind\":null,\"name\":\"justify_content\"}]},{\"extends\":null,\"module\":null,\"name\":\"TemplateActions1\",\"overrides\":[],\"properties\":[{\"default\":0,\"kind\":null,\"name\":\"open_modal\"},{\"default\":0,\"kind\":null,\"name\":\"close_modal\"}]},{\"extends\":null,\"module\":null,\"name\":\"MaterialTemplateActions1\",\"overrides\":[],\"properties\":[{\"default\":0,\"kind\":null,\"name\":\"open_modal\"},{\"default\":0,\"kind\":null,\"name\":\"close_modal\"}]}],\"roots\":{\"references\":[{\"attributes\":{\"css_classes\":[\"markdown\"],\"margin\":[5,5,5,5],\"name\":\"Markdown00106\",\"text\":\"&lt;p&gt;Do you want to learn more about:&lt;/p&gt;\"},\"id\":\"8359\",\"type\":\"panel.models.markup.HTML\"},{\"attributes\":{},\"id\":\"8424\",\"type\":\"ResetTool\"},{\"attributes\":{\"children\":[{\"id\":\"8364\"},{\"id\":\"8365\"},{\"id\":\"8366\"},{\"id\":\"1003\"}],\"height\":1000,\"margin\":[0,0,0,0],\"name\":\"Project Definition\",\"sizing_mode\":\"fixed\",\"width\":1000},\"id\":\"8363\",\"type\":\"Column\"},{\"attributes\":{\"children\":[{\"id\":\"8399\"}],\"height\":1000,\"margin\":[0,0,0,0],\"name\":\"Climate Hazard Inventory\",\"sizing_mode\":\"fixed\",\"width\":1000},\"id\":\"8398\",\"type\":\"Column\"},{\"attributes\":{\"bottom_units\":\"screen\",\"fill_alpha\":0.5,\"fill_color\":\"lightgrey\",\"left_units\":\"screen\",\"level\":\"overlay\",\"line_alpha\":1.0,\"line_color\":\"black\",\"line_dash\":[4,4],\"line_width\":2,\"right_units\":\"screen\",\"syncable\":false,\"top_units\":\"screen\"},\"id\":\"8425\",\"type\":\"BoxAnnotation\"},{\"attributes\":{\"end\":-3613865.685722572,\"reset_end\":-3613865.685722572,\"reset_start\":-17870796.037379228,\"start\":-17870796.037379228},\"id\":\"1006\",\"type\":\"Range1d\"},{\"attributes\":{\"overlay\":{\"id\":\"8425\"}},\"id\":\"8423\",\"type\":\"BoxZoomTool\"},{\"attributes\":{\"css_classes\":[\"markdown\"],\"margin\":[5,5,5,5],\"name\":\"Markdown00104\",\"text\":\"&lt;p&gt;Before we begin, it is important that you are comfortable with certain definitions and concepts related to climate models and future climate data.&lt;/p&gt;\"},\"id\":\"8358\",\"type\":\"panel.models.markup.HTML\"},{\"attributes\":{},\"id\":\"8462\",\"type\":\"NoOverlap\"},{\"attributes\":{\"margin\":[5,10,5,10],\"options\":[\"marine coastal flooding\",\"river and lake spring flooding\",\"extreme rain flooding\",\"ice jam flooding\",\"extreme snow\",\"extreme cold\",\"permafrost loss\",\"wildfire\"],\"placeholder\":\"\",\"title\":\"Which climate hazards is your building potentially vulnerable to, if the hazard occurred now or in the future?\"},\"id\":\"8399\",\"type\":\"MultiChoice\"},{\"attributes\":{\"fill_alpha\":{\"value\":0.1},\"fill_color\":{\"value\":\"#1f77b4\"},\"line_alpha\":{\"value\":0.1},\"line_color\":{\"value\":\"#1f77b4\"},\"x\":{\"field\":\"x\"},\"y\":{\"field\":\"y\"}},\"id\":\"1044\",\"type\":\"Circle\"},{\"attributes\":{},\"id\":\"8412\",\"type\":\"CategoricalScale\"},{\"attributes\":{\"child\":{\"id\":\"8395\"},\"name\":\"Building Component Inventory\",\"title\":\"Building Component Inventory\"},\"id\":\"8397\",\"type\":\"Panel\"},{\"attributes\":{\"margin\":[5,10,5,10],\"max_length\":5000,\"placeholder\":\"Enter building type here...\",\"title\":\"What type of building are you designing or operating?\"},\"id\":\"8364\",\"type\":\"TextInput\"},{\"attributes\":{\"children\":[{\"id\":\"8478\"},{\"id\":\"8480\"}],\"margin\":[0,0,0,0],\"name\":\"Column05212\"},\"id\":\"8477\",\"type\":\"Column\"},{\"attributes\":{\"tile_source\":{\"id\":\"1002\"}},\"id\":\"1039\",\"type\":\"TileRenderer\"},{\"attributes\":{\"end\":11402272.159297233,\"reset_end\":11402272.159297233,\"reset_start\":5012341.663847514,\"start\":5012341.663847514},\"id\":\"1008\",\"type\":\"Range1d\"},{\"attributes\":{\"source\":{\"id\":\"8433\"}},\"id\":\"8440\",\"type\":\"CDSView\"},{\"attributes\":{\"data_source\":{\"id\":\"1041\"},\"glyph\":{\"id\":\"1043\"},\"hover_glyph\":null,\"muted_glyph\":null,\"nonselection_glyph\":{\"id\":\"1044\"},\"view\":{\"id\":\"1046\"}},\"id\":\"1045\",\"type\":\"GlyphRenderer\"},{\"attributes\":{},\"id\":\"8422\",\"type\":\"WheelZoomTool\"},{\"attributes\":{\"css_classes\":[\"markdown\"],\"margin\":[5,5,5,5],\"name\":\"Markdown00102\"},\"id\":\"8361\",\"type\":\"panel.models.markup.HTML\"},{\"attributes\":{\"attribution\":\"&copy; <a href=\\\"https://www.openstreetmap.org/copyright\\\">OpenStreetMap</a> contributors,&copy; <a href=\\\"https://cartodb.com/attributions\\\">CartoDB</a>\",\"url\":\"https://tiles.basemaps.cartocdn.com/light_all/{z}/{x}/{y}.png\"},\"id\":\"1002\",\"type\":\"WMTSTileSource\"},{\"attributes\":{\"end\":10,\"margin\":[20,20,20,20],\"min_width\":250,\"start\":0,\"title\":\"vulnerability_level\",\"value\":0,\"width\":250},\"id\":\"8479\",\"type\":\"Slider\"},{\"attributes\":{},\"id\":\"1095\",\"type\":\"UnionRenderers\"},{\"attributes\":{\"end\":4102444800000.0,\"margin\":[5,10,5,10],\"start\":-631152000000.0,\"title\":\"What is your building lifespan?\",\"value\":[1609459200000.0,2871763200000.0]},\"id\":\"8365\",\"type\":\"DateRangeSlider\"},{\"attributes\":{\"axis\":{\"id\":\"8417\"},\"dimension\":1,\"grid_line_color\":null,\"ticker\":null},\"id\":\"8419\",\"type\":\"Grid\"},{\"attributes\":{\"children\":[{\"id\":\"8402\"}],\"height\":1000,\"margin\":[0,0,0,0],\"name\":\"Vulnerability Matrix\",\"sizing_mode\":\"fixed\",\"width\":1000},\"id\":\"8401\",\"type\":\"Column\"},{\"attributes\":{\"formatter\":{\"id\":\"1017\"},\"major_label_policy\":{\"id\":\"1093\"},\"ticker\":{\"id\":\"1015\"}},\"id\":\"1014\",\"type\":\"MercatorAxis\"},{\"attributes\":{\"labels\":[\"Future climate change scenarios\",\"Understanding the range of potential climate change projections\",\"Navigating the ClimateData.ca climate data portal\",\"The Government of Canada Climate-Resilience Buildings and Core Public Infrastructure program?\",\"The Government of Canada Climate Lens program?\",\"The Federation of Canadian Municipalities for Climate Innovation program?\"],\"margin\":[5,10,5,10]},\"id\":\"8360\",\"type\":\"CheckboxGroup\"},{\"attributes\":{\"below\":[{\"id\":\"8414\"}],\"center\":[{\"id\":\"8416\"},{\"id\":\"8419\"}],\"height\":900,\"left\":[{\"id\":\"8417\"}],\"margin\":[5,5,5,5],\"min_border_bottom\":10,\"min_border_left\":10,\"min_border_right\":10,\"min_border_top\":10,\"renderers\":[{\"id\":\"8439\"}],\"right\":[{\"id\":\"8442\"}],\"sizing_mode\":\"fixed\",\"title\":{\"id\":\"8406\"},\"toolbar\":{\"id\":\"8426\"},\"toolbar_location\":\"above\",\"width\":900,\"x_range\":{\"id\":\"8403\"},\"x_scale\":{\"id\":\"8410\"},\"y_range\":{\"id\":\"8404\"},\"y_scale\":{\"id\":\"8412\"}},\"id\":\"8405\",\"subtype\":\"Figure\",\"type\":\"Plot\"},{\"attributes\":{},\"id\":\"8421\",\"type\":\"PanTool\"},{\"attributes\":{},\"id\":\"1010\",\"type\":\"LinearScale\"},{\"attributes\":{},\"id\":\"1012\",\"type\":\"LinearScale\"},{\"attributes\":{\"fill_color\":{\"field\":\"zvalues\",\"transform\":{\"id\":\"8432\"}},\"height\":{\"value\":1},\"line_alpha\":{\"value\":0},\"line_color\":{\"value\":\"#1f77b4\"},\"width\":{\"value\":1},\"x\":{\"field\":\"level_0\"},\"y\":{\"field\":\"level_1\"}},\"id\":\"8436\",\"type\":\"Rect\"},{\"attributes\":{\"dimension\":\"lon\"},\"id\":\"1015\",\"type\":\"MercatorTicker\"},{\"attributes\":{},\"id\":\"8463\",\"type\":\"UnionRenderers\"},{\"attributes\":{\"axis\":{\"id\":\"1014\"},\"ticker\":null},\"id\":\"1021\",\"type\":\"Grid\"},{\"attributes\":{\"data\":{\"level_0\":[\"foundations\",\"foundations\",\"foundations\",\"foundations\",\"foundations\",\"foundations\",\"foundations\",\"foundations\",\"basements\",\"basements\",\"basements\",\"basements\",\"basements\",\"basements\",\"basements\",\"basements\",\"superstructure (floor and roof)\",\"superstructure (floor and roof)\",\"superstructure (floor and roof)\",\"superstructure (floor and roof)\",\"superstructure (floor and roof)\",\"superstructure (floor and roof)\",\"superstructure (floor and roof)\",\"superstructure (floor and roof)\",\"exterior closures (exterior wall, windows, doors)\",\"exterior closures (exterior wall, windows, doors)\",\"exterior closures (exterior wall, windows, doors)\",\"exterior closures (exterior wall, windows, doors)\",\"exterior closures (exterior wall, windows, doors)\",\"exterior closures (exterior wall, windows, doors)\",\"exterior closures (exterior wall, windows, doors)\",\"exterior closures (exterior wall, windows, doors)\",\"roofing (coverings and openings\",\"roofing (coverings and openings\",\"roofing (coverings and openings\",\"roofing (coverings and openings\",\"roofing (coverings and openings\",\"roofing (coverings and openings\",\"roofing (coverings and openings\",\"roofing (coverings and openings\",\"Doors and partitions\",\"Doors and partitions\",\"Doors and partitions\",\"Doors and partitions\",\"Doors and partitions\",\"Doors and partitions\",\"Doors and partitions\",\"Doors and partitions\",\"staircases\",\"staircases\",\"staircases\",\"staircases\",\"staircases\",\"staircases\",\"staircases\",\"staircases\",\"interior finishes (wall, floor and ceiling finishes)\",\"interior finishes (wall, floor and ceiling finishes)\",\"interior finishes (wall, floor and ceiling finishes)\",\"interior finishes (wall, floor and ceiling finishes)\",\"interior finishes (wall, floor and ceiling finishes)\",\"interior finishes (wall, floor and ceiling finishes)\",\"interior finishes (wall, floor and ceiling finishes)\",\"interior finishes (wall, floor and ceiling finishes)\",\"conveying systems (e.g. elevators)\",\"conveying systems (e.g. elevators)\",\"conveying systems (e.g. elevators)\",\"conveying systems (e.g. elevators)\",\"conveying systems (e.g. elevators)\",\"conveying systems (e.g. elevators)\",\"conveying systems (e.g. elevators)\",\"conveying systems (e.g. elevators)\",\"Plumbing (water supply, sewage, drainage, etc.)\",\"Plumbing (water supply, sewage, drainage, etc.)\",\"Plumbing (water supply, sewage, drainage, etc.)\",\"Plumbing (water supply, sewage, drainage, etc.)\",\"Plumbing (water supply, sewage, drainage, etc.)\",\"Plumbing (water supply, sewage, drainage, etc.)\",\"Plumbing (water supply, sewage, drainage, etc.)\",\"Plumbing (water supply, sewage, drainage, etc.)\",\"Mechnical heating systems\",\"Mechnical heating systems\",\"Mechnical heating systems\",\"Mechnical heating systems\",\"Mechnical heating systems\",\"Mechnical heating systems\",\"Mechnical heating systems\",\"Mechnical heating systems\",\"Mechanical cooling systems\",\"Mechanical cooling systems\",\"Mechanical cooling systems\",\"Mechanical cooling systems\",\"Mechanical cooling systems\",\"Mechanical cooling systems\",\"Mechanical cooling systems\",\"Mechanical cooling systems\",\"Additional/specialized HVAC systems\",\"Additional/specialized HVAC systems\",\"Additional/specialized HVAC systems\",\"Additional/specialized HVAC systems\",\"Additional/specialized HVAC systems\",\"Additional/specialized HVAC systems\",\"Additional/specialized HVAC systems\",\"Additional/specialized HVAC systems\",\"Fire protection (includes sprinklers and hoses)\",\"Fire protection (includes sprinklers and hoses)\",\"Fire protection (includes sprinklers and hoses)\",\"Fire protection (includes sprinklers and hoses)\",\"Fire protection (includes sprinklers and hoses)\",\"Fire protection (includes sprinklers and hoses)\",\"Fire protection (includes sprinklers and hoses)\",\"Fire protection (includes sprinklers and hoses)\",\"Electrical (includes service and distribution, lighting and communications.\",\"Electrical (includes service and distribution, lighting and communications.\",\"Electrical (includes service and distribution, lighting and communications.\",\"Electrical (includes service and distribution, lighting and communications.\",\"Electrical (includes service and distribution, lighting and communications.\",\"Electrical (includes service and distribution, lighting and communications.\",\"Electrical (includes service and distribution, lighting and communications.\",\"Electrical (includes service and distribution, lighting and communications.\"],\"level_1\":[\"wildfire\",\"permafrost loss\",\"extreme cold\",\"extreme snow\",\"ice jam flooding\",\"extreme rain flooding\",\"river and lake spring flooding\",\"marine coastal flooding\",\"wildfire\",\"permafrost loss\",\"extreme cold\",\"extreme snow\",\"ice jam flooding\",\"extreme rain flooding\",\"river and lake spring flooding\",\"marine coastal flooding\",\"wildfire\",\"permafrost loss\",\"extreme cold\",\"extreme snow\",\"ice jam flooding\",\"extreme rain flooding\",\"river and lake spring flooding\",\"marine coastal flooding\",\"wildfire\",\"permafrost loss\",\"extreme cold\",\"extreme snow\",\"ice jam flooding\",\"extreme rain flooding\",\"river and lake spring flooding\",\"marine coastal flooding\",\"wildfire\",\"permafrost loss\",\"extreme cold\",\"extreme snow\",\"ice jam flooding\",\"extreme rain flooding\",\"river and lake spring flooding\",\"marine coastal flooding\",\"wildfire\",\"permafrost loss\",\"extreme cold\",\"extreme snow\",\"ice jam flooding\",\"extreme rain flooding\",\"river and lake spring flooding\",\"marine coastal flooding\",\"wildfire\",\"permafrost loss\",\"extreme cold\",\"extreme snow\",\"ice jam flooding\",\"extreme rain flooding\",\"river and lake spring flooding\",\"marine coastal flooding\",\"wildfire\",\"permafrost loss\",\"extreme cold\",\"extreme snow\",\"ice jam flooding\",\"extreme rain flooding\",\"river and lake spring flooding\",\"marine coastal flooding\",\"wildfire\",\"permafrost loss\",\"extreme cold\",\"extreme snow\",\"ice jam flooding\",\"extreme rain flooding\",\"river and lake spring flooding\",\"marine coastal flooding\",\"wildfire\",\"permafrost loss\",\"extreme cold\",\"extreme snow\",\"ice jam flooding\",\"extreme rain flooding\",\"river and lake spring flooding\",\"marine coastal flooding\",\"wildfire\",\"permafrost loss\",\"extreme cold\",\"extreme snow\",\"ice jam flooding\",\"extreme rain flooding\",\"river and lake spring flooding\",\"marine coastal flooding\",\"wildfire\",\"permafrost loss\",\"extreme cold\",\"extreme snow\",\"ice jam flooding\",\"extreme rain flooding\",\"river and lake spring flooding\",\"marine coastal flooding\",\"wildfire\",\"permafrost loss\",\"extreme cold\",\"extreme snow\",\"ice jam flooding\",\"extreme rain flooding\",\"river and lake spring flooding\",\"marine coastal flooding\",\"wildfire\",\"permafrost loss\",\"extreme cold\",\"extreme snow\",\"ice jam flooding\",\"extreme rain flooding\",\"river and lake spring flooding\",\"marine coastal flooding\",\"wildfire\",\"permafrost loss\",\"extreme cold\",\"extreme snow\",\"ice jam flooding\",\"extreme rain flooding\",\"river and lake spring flooding\",\"marine coastal flooding\"],\"zvalues\":[0,0,0,0,0,0,0,0,0,0,0,0,0,0,0,0,0,0,0,0,0,0,0,0,0,0,0,0,0,0,0,0,0,0,0,0,0,0,0,0,0,0,0,0,0,0,0,0,0,0,0,0,0,0,0,0,0,0,0,0,0,0,0,0,0,0,0,0,0,0,0,0,0,0,0,0,0,0,0,0,0,0,0,0,0,0,0,0,0,0,0,0,0,0,0,0,0,0,0,0,0,0,0,0,0,0,0,0,0,0,0,0,0,0,0,0,0,0,0,0]},\"selected\":{\"id\":\"8434\"},\"selection_policy\":{\"id\":\"8463\"}},\"id\":\"8433\",\"type\":\"ColumnDataSource\"},{\"attributes\":{\"formatter\":{\"id\":\"1025\"},\"major_label_policy\":{\"id\":\"1090\"},\"ticker\":{\"id\":\"1023\"}},\"id\":\"1022\",\"type\":\"MercatorAxis\"},{\"attributes\":{},\"id\":\"8418\",\"type\":\"CategoricalTicker\"},{\"attributes\":{\"children\":[{\"id\":\"8479\"}],\"css_classes\":[\"panel-widget-box\"],\"margin\":[5,5,5,5],\"name\":\"WidgetBox05206\"},\"id\":\"8478\",\"type\":\"Column\"},{\"attributes\":{},\"id\":\"8420\",\"type\":\"SaveTool\"},{\"attributes\":{\"text\":\"Where is your building located?\",\"text_color\":\"black\",\"text_font_size\":\"12pt\"},\"id\":\"1004\",\"type\":\"Title\"},{\"attributes\":{\"dimension\":\"lon\"},\"id\":\"1017\",\"type\":\"MercatorTickFormatter\"},{\"attributes\":{},\"id\":\"8415\",\"type\":\"CategoricalTicker\"},{\"attributes\":{},\"id\":\"8447\",\"type\":\"CategoricalTickFormatter\"},{\"attributes\":{\"factors\":[\"foundations\",\"basements\",\"superstructure (floor and roof)\",\"exterior closures (exterior wall, windows, doors)\",\"roofing (coverings and openings\",\"Doors and partitions\",\"staircases\",\"interior finishes (wall, floor and ceiling finishes)\",\"conveying systems (e.g. elevators)\",\"Plumbing (water supply, sewage, drainage, etc.)\",\"Mechnical heating systems\",\"Mechanical cooling systems\",\"Additional/specialized HVAC systems\",\"Fire protection (includes sprinklers and hoses)\",\"Electrical (includes service and distribution, lighting and communications.\"],\"tags\":[[[\"level_0\",\"level_0\",null]]]},\"id\":\"8403\",\"type\":\"FactorRange\"},{\"attributes\":{\"data_source\":{\"id\":\"8433\"},\"glyph\":{\"id\":\"8436\"},\"hover_glyph\":null,\"muted_glyph\":null,\"nonselection_glyph\":{\"id\":\"8437\"},\"selection_glyph\":{\"id\":\"8438\"},\"view\":{\"id\":\"8440\"}},\"id\":\"8439\",\"type\":\"GlyphRenderer\"},{\"attributes\":{},\"id\":\"8446\",\"type\":\"AllLabels\"},{\"attributes\":{\"dimension\":\"lat\"},\"id\":\"1023\",\"type\":\"MercatorTicker\"},{\"attributes\":{},\"id\":\"8444\",\"type\":\"CategoricalTickFormatter\"},{\"attributes\":{\"child\":{\"id\":\"8357\"},\"name\":\"Core Knowledge Checklist\",\"title\":\"Core Knowledge Checklist\"},\"id\":\"8362\",\"type\":\"Panel\"},{\"attributes\":{\"axis\":{\"id\":\"1022\"},\"dimension\":1,\"ticker\":null},\"id\":\"1029\",\"type\":\"Grid\"},{\"attributes\":{\"high\":10,\"low\":0,\"nan_color\":\"white\",\"palette\":[\"#000003\",\"#000004\",\"#000006\",\"#010007\",\"#010109\",\"#01010b\",\"#02020d\",\"#02020f\",\"#030311\",\"#040313\",\"#040415\",\"#050417\",\"#060519\",\"#07051b\",\"#08061d\",\"#09071f\",\"#0a0722\",\"#0b0824\",\"#0c0926\",\"#0d0a28\",\"#0e0a2a\",\"#0f0b2c\",\"#100c2f\",\"#110c31\",\"#120d33\",\"#140d35\",\"#150e38\",\"#160e3a\",\"#170f3c\",\"#180f3f\",\"#1a1041\",\"#1b1044\",\"#1c1046\",\"#1e1049\",\"#1f114b\",\"#20114d\",\"#221150\",\"#231152\",\"#251155\",\"#261157\",\"#281159\",\"#2a115c\",\"#2b115e\",\"#2d1060\",\"#2f1062\",\"#301065\",\"#321067\",\"#341068\",\"#350f6a\",\"#370f6c\",\"#390f6e\",\"#3b0f6f\",\"#3c0f71\",\"#3e0f72\",\"#400f73\",\"#420f74\",\"#430f75\",\"#450f76\",\"#470f77\",\"#481078\",\"#4a1079\",\"#4b1079\",\"#4d117a\",\"#4f117b\",\"#50127b\",\"#52127c\",\"#53137c\",\"#55137d\",\"#57147d\",\"#58157e\",\"#5a157e\",\"#5b167e\",\"#5d177e\",\"#5e177f\",\"#60187f\",\"#61187f\",\"#63197f\",\"#651a80\",\"#661a80\",\"#681b80\",\"#691c80\",\"#6b1c80\",\"#6c1d80\",\"#6e1e81\",\"#6f1e81\",\"#711f81\",\"#731f81\",\"#742081\",\"#762181\",\"#772181\",\"#792281\",\"#7a2281\",\"#7c2381\",\"#7e2481\",\"#7f2481\",\"#812581\",\"#822581\",\"#842681\",\"#852681\",\"#872781\",\"#892881\",\"#8a2881\",\"#8c2980\",\"#8d2980\",\"#8f2a80\",\"#912a80\",\"#922b80\",\"#942b80\",\"#952c80\",\"#972c7f\",\"#992d7f\",\"#9a2d7f\",\"#9c2e7f\",\"#9e2e7e\",\"#9f2f7e\",\"#a12f7e\",\"#a3307e\",\"#a4307d\",\"#a6317d\",\"#a7317d\",\"#a9327c\",\"#ab337c\",\"#ac337b\",\"#ae347b\",\"#b0347b\",\"#b1357a\",\"#b3357a\",\"#b53679\",\"#b63679\",\"#b83778\",\"#b93778\",\"#bb3877\",\"#bd3977\",\"#be3976\",\"#c03a75\",\"#c23a75\",\"#c33b74\",\"#c53c74\",\"#c63c73\",\"#c83d72\",\"#ca3e72\",\"#cb3e71\",\"#cd3f70\",\"#ce4070\",\"#d0416f\",\"#d1426e\",\"#d3426d\",\"#d4436d\",\"#d6446c\",\"#d7456b\",\"#d9466a\",\"#da4769\",\"#dc4869\",\"#dd4968\",\"#de4a67\",\"#e04b66\",\"#e14c66\",\"#e24d65\",\"#e44e64\",\"#e55063\",\"#e65162\",\"#e75262\",\"#e85461\",\"#ea5560\",\"#eb5660\",\"#ec585f\",\"#ed595f\",\"#ee5b5e\",\"#ee5d5d\",\"#ef5e5d\",\"#f0605d\",\"#f1615c\",\"#f2635c\",\"#f3655c\",\"#f3675b\",\"#f4685b\",\"#f56a5b\",\"#f56c5b\",\"#f66e5b\",\"#f6705b\",\"#f7715b\",\"#f7735c\",\"#f8755c\",\"#f8775c\",\"#f9795c\",\"#f97b5d\",\"#f97d5d\",\"#fa7f5e\",\"#fa805e\",\"#fa825f\",\"#fb8460\",\"#fb8660\",\"#fb8861\",\"#fb8a62\",\"#fc8c63\",\"#fc8e63\",\"#fc9064\",\"#fc9265\",\"#fc9366\",\"#fd9567\",\"#fd9768\",\"#fd9969\",\"#fd9b6a\",\"#fd9d6b\",\"#fd9f6c\",\"#fda16e\",\"#fda26f\",\"#fda470\",\"#fea671\",\"#fea873\",\"#feaa74\",\"#feac75\",\"#feae76\",\"#feaf78\",\"#feb179\",\"#feb37b\",\"#feb57c\",\"#feb77d\",\"#feb97f\",\"#febb80\",\"#febc82\",\"#febe83\",\"#fec085\",\"#fec286\",\"#fec488\",\"#fec689\",\"#fec78b\",\"#fec98d\",\"#fecb8e\",\"#fdcd90\",\"#fdcf92\",\"#fdd193\",\"#fdd295\",\"#fdd497\",\"#fdd698\",\"#fdd89a\",\"#fdda9c\",\"#fddc9d\",\"#fddd9f\",\"#fddfa1\",\"#fde1a3\",\"#fce3a5\",\"#fce5a6\",\"#fce6a8\",\"#fce8aa\",\"#fceaac\",\"#fcecae\",\"#fceeb0\",\"#fcf0b1\",\"#fcf1b3\",\"#fcf3b5\",\"#fcf5b7\",\"#fbf7b9\",\"#fbf9bb\",\"#fbfabd\",\"#fbfcbf\"]},\"id\":\"8432\",\"type\":\"LinearColorMapper\"},{\"attributes\":{\"axis_label\":\"level_0\",\"formatter\":{\"id\":\"8444\"},\"major_label_orientation\":0.7853981633974483,\"major_label_policy\":{\"id\":\"8443\"},\"ticker\":{\"id\":\"8415\"}},\"id\":\"8414\",\"type\":\"CategoricalAxis\"},{\"attributes\":{\"factors\":[\"marine coastal flooding\",\"river and lake spring flooding\",\"extreme rain flooding\",\"ice jam flooding\",\"extreme snow\",\"extreme cold\",\"permafrost loss\",\"wildfire\"],\"tags\":[[[\"level_1\",\"level_1\",null]]]},\"id\":\"8404\",\"type\":\"FactorRange\"},{\"attributes\":{\"dimension\":\"lat\"},\"id\":\"1025\",\"type\":\"MercatorTickFormatter\"},{\"attributes\":{},\"id\":\"8443\",\"type\":\"AllLabels\"},{\"attributes\":{\"children\":[{\"id\":\"8396\"}],\"height\":1000,\"margin\":[0,0,0,0],\"name\":\"Building Component Inventory\",\"sizing_mode\":\"fixed\",\"width\":1000},\"id\":\"8395\",\"type\":\"Column\"},{\"attributes\":{\"margin\":[5,5,5,5],\"name\":\"VSpacer05211\",\"sizing_mode\":\"stretch_height\"},\"id\":\"8480\",\"type\":\"Spacer\"},{\"attributes\":{},\"id\":\"1090\",\"type\":\"AllLabels\"},{\"attributes\":{\"child\":{\"id\":\"8401\"},\"name\":\"Vulnerability Matrix\",\"title\":\"Vulnerability Matrix\"},\"id\":\"8481\",\"type\":\"Panel\"},{\"attributes\":{\"fill_color\":{\"value\":\"#1f77b4\"},\"line_color\":{\"value\":\"#1f77b4\"},\"x\":{\"field\":\"x\"},\"y\":{\"field\":\"y\"}},\"id\":\"1043\",\"type\":\"Circle\"},{\"attributes\":{\"data\":{\"x\":[0],\"y\":[0]},\"selected\":{\"id\":\"1096\"},\"selection_policy\":{\"id\":\"1095\"}},\"id\":\"1041\",\"type\":\"ColumnDataSource\"},{\"attributes\":{\"axis\":{\"id\":\"8414\"},\"grid_line_color\":null,\"ticker\":null},\"id\":\"8416\",\"type\":\"Grid\"},{\"attributes\":{\"bar_line_color\":\"black\",\"color_mapper\":{\"id\":\"8432\"},\"label_standoff\":8,\"location\":[0,0],\"major_label_policy\":{\"id\":\"8462\"},\"major_tick_line_color\":\"black\",\"ticker\":{\"id\":\"8441\"}},\"id\":\"8442\",\"type\":\"ColorBar\"},{\"attributes\":{\"fill_color\":{\"field\":\"zvalues\",\"transform\":{\"id\":\"8432\"}},\"height\":{\"value\":1},\"line_alpha\":{\"value\":0},\"line_color\":{\"value\":\"#1f77b4\"},\"width\":{\"value\":1},\"x\":{\"field\":\"level_0\"},\"y\":{\"field\":\"level_1\"}},\"id\":\"8438\",\"type\":\"Rect\"},{\"attributes\":{\"callback\":null},\"id\":\"1030\",\"type\":\"HoverTool\"},{\"attributes\":{\"axis_label\":\"level_1\",\"formatter\":{\"id\":\"8447\"},\"major_label_policy\":{\"id\":\"8446\"},\"ticker\":{\"id\":\"8418\"}},\"id\":\"8417\",\"type\":\"CategoricalAxis\"},{\"attributes\":{\"child\":{\"id\":\"8398\"},\"name\":\"Climate Hazard Inventory\",\"title\":\"Climate Hazard Inventory\"},\"id\":\"8400\",\"type\":\"Panel\"},{\"attributes\":{\"active_multi\":null,\"tools\":[{\"id\":\"1030\"},{\"id\":\"1031\"},{\"id\":\"1032\"},{\"id\":\"1033\"}]},\"id\":\"1034\",\"type\":\"Toolbar\"},{\"attributes\":{\"client_comm_id\":\"46f0f3d1aca349179f09093e78107ebf\",\"comm_id\":\"eca1e5c9ced641219283565bfa3192cf\",\"plot_id\":\"8356\"},\"id\":\"8542\",\"type\":\"panel.models.comm_manager.CommManager\"},{\"attributes\":{},\"id\":\"1031\",\"type\":\"PanTool\"},{\"attributes\":{\"children\":[{\"id\":\"8405\"},{\"id\":\"8477\"}],\"margin\":[0,0,0,0],\"name\":\"Row05205\"},\"id\":\"8402\",\"type\":\"Row\"},{\"attributes\":{},\"id\":\"1032\",\"type\":\"WheelZoomTool\"},{\"attributes\":{},\"id\":\"8410\",\"type\":\"CategoricalScale\"},{\"attributes\":{\"child\":{\"id\":\"8363\"},\"name\":\"Project Definition\",\"title\":\"Project Definition\"},\"id\":\"8394\",\"type\":\"Panel\"},{\"attributes\":{\"margin\":[5,10,5,10],\"max_length\":5000,\"placeholder\":\"Enter profession/role here...\",\"title\":\"What is your profession or role?\"},\"id\":\"8366\",\"type\":\"TextInput\"},{\"attributes\":{\"fill_alpha\":{\"value\":0.1},\"fill_color\":{\"field\":\"zvalues\",\"transform\":{\"id\":\"8432\"}},\"height\":{\"value\":1},\"line_alpha\":{\"value\":0},\"line_color\":{\"value\":\"#1f77b4\"},\"width\":{\"value\":1},\"x\":{\"field\":\"level_0\"},\"y\":{\"field\":\"level_1\"}},\"id\":\"8437\",\"type\":\"Rect\"},{\"attributes\":{},\"id\":\"1093\",\"type\":\"AllLabels\"},{\"attributes\":{\"below\":[{\"id\":\"1014\"}],\"center\":[{\"id\":\"1021\"},{\"id\":\"1029\"}],\"height\":250,\"inner_height\":199,\"inner_width\":444,\"left\":[{\"id\":\"1022\"}],\"outer_height\":250,\"outer_width\":500,\"renderers\":[{\"id\":\"1039\"},{\"id\":\"1045\"}],\"subscribed_events\":[\"tap\"],\"title\":{\"id\":\"1004\"},\"toolbar\":{\"id\":\"1034\"},\"width\":500,\"x_range\":{\"id\":\"1006\"},\"x_scale\":{\"id\":\"1010\"},\"y_range\":{\"id\":\"1008\"},\"y_scale\":{\"id\":\"1012\"}},\"id\":\"1003\",\"subtype\":\"Figure\",\"type\":\"Plot\"},{\"attributes\":{\"callback\":null},\"id\":\"1033\",\"type\":\"TapTool\"},{\"attributes\":{},\"id\":\"8441\",\"type\":\"BasicTicker\"},{\"attributes\":{\"children\":[{\"id\":\"8358\"},{\"id\":\"8359\"},{\"id\":\"8360\"},{\"id\":\"8361\"}],\"height\":1000,\"margin\":[0,0,0,0],\"name\":\"Core Knowledge Checklist\",\"sizing_mode\":\"fixed\",\"width\":1000},\"id\":\"8357\",\"type\":\"Column\"},{\"attributes\":{\"text\":\"vulnerability_level: 0\",\"text_color\":\"black\",\"text_font_size\":\"12pt\"},\"id\":\"8406\",\"type\":\"Title\"},{\"attributes\":{\"active_multi\":null,\"tools\":[{\"id\":\"8420\"},{\"id\":\"8421\"},{\"id\":\"8422\"},{\"id\":\"8423\"},{\"id\":\"8424\"}]},\"id\":\"8426\",\"type\":\"Toolbar\"},{\"attributes\":{\"margin\":[0,0,0,0],\"tabs\":[{\"id\":\"8362\"},{\"id\":\"8394\"},{\"id\":\"8397\"},{\"id\":\"8400\"},{\"id\":\"8481\"}]},\"id\":\"8356\",\"type\":\"Tabs\"},{\"attributes\":{},\"id\":\"8434\",\"type\":\"Selection\"},{\"attributes\":{},\"id\":\"1096\",\"type\":\"Selection\"},{\"attributes\":{\"source\":{\"id\":\"1041\"}},\"id\":\"1046\",\"type\":\"CDSView\"},{\"attributes\":{\"margin\":[5,10,5,10],\"options\":[\"foundations\",\"basements\",\"superstructure (floor and roof)\",\"exterior closures (exterior wall, windows, doors)\",\"roofing (coverings and openings\",\"Doors and partitions\",\"staircases\",\"interior finishes (wall, floor and ceiling finishes)\",\"conveying systems (e.g. elevators)\",\"Plumbing (water supply, sewage, drainage, etc.)\",\"Mechnical heating systems\",\"Mechanical cooling systems\",\"Mechanical cooling systems\",\"Additional/specialized HVAC systems\",\"Fire protection (includes sprinklers and hoses)\",\"Electrical (includes service and distribution, lighting and communications.\"],\"placeholder\":\"\",\"title\":\"Which building components would you like to include in this assessment?\"},\"id\":\"8396\",\"type\":\"MultiChoice\"}],\"root_ids\":[\"8356\",\"8542\"]},\"title\":\"Bokeh Application\",\"version\":\"2.3.3\"}};\n",
       "    var render_items = [{\"docid\":\"bebe85cd-e404-4de0-82ec-8665b5971414\",\"root_ids\":[\"8356\"],\"roots\":{\"8356\":\"442ae0b5-1990-4188-b98d-26b6fd2aff38\"}}];\n",
       "    root.Bokeh.embed.embed_items_notebook(docs_json, render_items);\n",
       "  }\n",
       "  if (root.Bokeh !== undefined && root.Bokeh.Panel !== undefined) {\n",
       "    embed_document(root);\n",
       "  } else {\n",
       "    var attempts = 0;\n",
       "    var timer = setInterval(function(root) {\n",
       "      if (root.Bokeh !== undefined && root.Bokeh.Panel !== undefined) {\n",
       "        clearInterval(timer);\n",
       "        embed_document(root);\n",
       "      } else if (document.readyState == \"complete\") {\n",
       "        attempts++;\n",
       "        if (attempts > 200) {\n",
       "          clearInterval(timer);\n",
       "          console.log(\"Bokeh: ERROR: Unable to run BokehJS code because BokehJS library is missing\");\n",
       "        }\n",
       "      }\n",
       "    }, 25, root)\n",
       "  }\n",
       "})(window);</script>"
      ],
      "text/plain": [
       "Tabs\n",
       "    [0] Column(height=1000, name='Core Knowledge C..., sizing_mode='fixed', width=1000)\n",
       "        [0] Markdown(str)\n",
       "        [1] Markdown(str)\n",
       "        [2] CheckBoxGroup(name='Core knowledge a..., options={'Future climate change sc...})\n",
       "        [3] Markdown(str)\n",
       "    [1] Column(height=1000, name='Project Definition', sizing_mode='fixed', width=1000)\n",
       "        [0] TextInput(name='What type of b..., placeholder='Enter building t...)\n",
       "        [1] DateRangeSlider(end=datetime.datetime(2100, ..., name='What is your b..., start=datetime.datetime(1950, ..., value=(datetime.datetime(2021, ..., value_end=datetime.datetime(2061, ..., value_start=datetime.datetime(2021, ...)\n",
       "        [2] TextInput(name='What is your p..., placeholder='Enter profession/role h...)\n",
       "        [3] Bokeh(Figure)\n",
       "    [2] Column(height=1000, name='Building Component I..., sizing_mode='fixed', width=1000)\n",
       "        [0] MultiChoice(name='Which building c..., options=['foundations', ...])\n",
       "    [3] Column(height=1000, name='Climate Hazard I..., sizing_mode='fixed', width=1000)\n",
       "        [0] MultiChoice(name='Which climate hazards is ..., options=['marine coastal flooding'...])\n",
       "    [4] Column(height=1000, name='Vulnerability Matrix', sizing_mode='fixed', width=1000)\n",
       "        [0] Row\n",
       "            [0] HoloViews(DynamicMap)\n",
       "            [1] Column\n",
       "                [0] WidgetBox\n",
       "                    [0] IntSlider(end=10, margin=(20, 20, 20, 20), name='vulnerability_level', width=250)\n",
       "                [1] VSpacer()"
      ]
     },
     "execution_count": 101,
     "metadata": {
      "application/vnd.holoviews_exec.v0+json": {
       "id": "8356"
      }
     },
     "output_type": "execute_result"
    }
   ],
   "source": [
    "tabs=pn.Tabs(Tab_Core_Knowledge_Checklist,    \n",
    "             Tab_Project_Definition,\n",
    "             Tab_Building_Component_Inventory,\n",
    "             Tab_Climate_Hazard_Inventory,\n",
    "             Tab_Hazard_Component_Interactions)\n",
    "tabs"
   ]
  },
  {
   "cell_type": "code",
   "execution_count": null,
   "metadata": {},
   "outputs": [],
   "source": [
    "#https://holoviews.org/reference/elements/bokeh/Sankey.html#elements-bokeh-gallery-sankey"
   ]
  }
 ],
 "metadata": {
  "kernelspec": {
   "display_name": "Python 3",
   "language": "python",
   "name": "python3"
  },
  "language_info": {
   "codemirror_mode": {
    "name": "ipython",
    "version": 3
   },
   "file_extension": ".py",
   "mimetype": "text/x-python",
   "name": "python",
   "nbconvert_exporter": "python",
   "pygments_lexer": "ipython3",
   "version": "3.7.9"
  }
 },
 "nbformat": 4,
 "nbformat_minor": 4
}
